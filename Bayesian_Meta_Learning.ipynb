{
  "nbformat": 4,
  "nbformat_minor": 0,
  "metadata": {
    "colab": {
      "provenance": []
    },
    "kernelspec": {
      "name": "python3",
      "display_name": "Python 3"
    },
    "language_info": {
      "name": "python"
    }
  },
  "cells": [
    {
      "cell_type": "markdown",
      "source": [
        "# **Bayesian Meta-Learning**"
      ],
      "metadata": {
        "id": "p3Mf4UUkksQi"
      }
    },
    {
      "cell_type": "code",
      "source": [
        "import tensorflow as tf\n",
        "import numpy as np\n",
        "import tensorflow_probability as tfp"
      ],
      "metadata": {
        "id": "vij4_ScTkrEQ"
      },
      "execution_count": null,
      "outputs": []
    },
    {
      "cell_type": "code",
      "execution_count": null,
      "metadata": {
        "id": "Fg_0AsfeDVls"
      },
      "outputs": [],
      "source": [
        "def generate_synthetic_data(num_tasks, num_samples_per_task, input_dim, output_dim):\n",
        "    data = []\n",
        "    for _ in range(num_tasks):\n",
        "        x = np.random.rand(num_samples_per_task, input_dim)\n",
        "        y = np.random.randint(output_dim, size=num_samples_per_task)\n",
        "        data.append((x, y))\n",
        "    return data\n",
        "tfd = tfp.distributions\n",
        "class BayesianNN(tf.Module):\n",
        "    def __init__(self, input_dim, hidden_dim, output_dim):\n",
        "        self.fc1 = tf.keras.layers.Dense(hidden_dim, activation='relu')\n",
        "        self.fc2 = tf.keras.layers.Dense(output_dim)\n",
        "\n",
        "    def __call__(self, x, samples=1):\n",
        "        outputs = []\n",
        "        for _ in range(samples):\n",
        "            h1 = self.fc1(x)\n",
        "            out = self.fc2(h1)\n",
        "            outputs.append(out)\n",
        "        return outputs\n",
        "\n",
        "# Bayesian meta-learning model\n",
        "class BayesianMetaLearningModel(tf.Module):\n",
        "    def __init__(self, input_dim, hidden_dim, output_dim):\n",
        "        self.meta_learner = BayesianNN(input_dim, hidden_dim, output_dim)\n",
        "        # prior distribution for task-specific parameters\n",
        "        self.prior = tfd.Normal(loc=0., scale=1.)\n",
        "\n",
        "    def __call__(self, data, task_specific_params, samples=1):\n",
        "        outputs = []\n",
        "        for _ in range(samples):\n",
        "            task_params = self.prior.sample(task_specific_params.shape)\n",
        "            for i in range(len(data)):\n",
        "                task_input = data[i][0]\n",
        "                task_input = tf.convert_to_tensor(task_input, dtype=tf.float32)\n",
        "                task_output = self.meta_learner(task_input)\n",
        "                outputs.append(task_output)\n",
        "        return outputs\n",
        "\n",
        "# training\n",
        "num_tasks = 10\n",
        "num_samples_per_task = 5\n",
        "input_dim = 2\n",
        "output_dim = 3\n",
        "hidden_dim = 16\n",
        "num_epochs = 100\n",
        "learning_rate = 0.001\n",
        "\n",
        "# synthetic data generation\n",
        "training_data = generate_synthetic_data(num_tasks, num_samples_per_task, input_dim, output_dim)\n",
        "\n",
        "# model initialization\n",
        "model = BayesianMetaLearningModel(input_dim, hidden_dim, output_dim)\n",
        "optimizer = tf.optimizers.Adam(learning_rate)\n",
        "\n",
        "\n",
        "for epoch in range(num_epochs):\n",
        "    for task_data in training_data:\n",
        "        with tf.GradientTape() as tape:\n",
        "            task_specific_params = tf.random.normal(shape=(1,))\n",
        "            task_input = task_data[0]\n",
        "            task_input = tf.convert_to_tensor(task_input, dtype=tf.float32)\n",
        "            task_predictions = model([task_data], task_specific_params)\n",
        "            loss = tf.losses.sparse_categorical_crossentropy(task_data[1], task_predictions[-1][0])\n",
        "        gradients = tape.gradient(loss, model.trainable_variables)\n",
        "        optimizer.apply_gradients(zip(gradients, model.trainable_variables))\n",
        "\n",
        "# meta-testing\n",
        "meta_test_task_data = generate_synthetic_data(1, num_samples_per_task, input_dim, output_dim)\n",
        "meta_test_task_params = tf.random.normal(shape=(1,))\n",
        "meta_test_predictions = model(meta_test_task_data, meta_test_task_params)\n",
        "\n",
        "# evaluation\n",
        "bayesian_nn_model = BayesianNN(input_dim, hidden_dim, output_dim)\n",
        "print(meta_test_predictions)\n",
        "\n"
      ]
    }
  ]
}
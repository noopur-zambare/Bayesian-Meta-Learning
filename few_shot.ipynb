{
  "nbformat": 4,
  "nbformat_minor": 0,
  "metadata": {
    "colab": {
      "provenance": []
    },
    "kernelspec": {
      "name": "python3",
      "display_name": "Python 3"
    },
    "language_info": {
      "name": "python"
    }
  },
  "cells": [
    {
      "cell_type": "markdown",
      "source": [
        "# **Few Shot Learning**"
      ],
      "metadata": {
        "id": "aR2QIAj0EIBC"
      }
    },
    {
      "cell_type": "code",
      "source": [
        "import tensorflow as tf\n",
        "import tensorflow_probability as tfp\n",
        "import numpy as np"
      ],
      "metadata": {
        "id": "ivKjrKpb-o0z"
      },
      "execution_count": 21,
      "outputs": []
    },
    {
      "cell_type": "code",
      "execution_count": null,
      "metadata": {
        "id": "qEq_IV4L93fF"
      },
      "outputs": [],
      "source": [
        "tfd = tfp.distributions\n",
        "\n",
        "def generate_few_shot_data(num_classes, num_samples_per_class, input_dim):\n",
        "    data = []\n",
        "    for i in range(num_classes):\n",
        "        x = np.random.rand(num_samples_per_class, input_dim)\n",
        "        y = [i] * num_samples_per_class\n",
        "        data.append((x, y))\n",
        "    return data\n",
        "\n",
        "class BayesianImageClassifier(tf.Module):\n",
        "    def __init__(self, input_dim, output_dim):\n",
        "        self.fc1 = tf.keras.layers.Dense(64, activation='relu', input_shape=(input_dim,))\n",
        "        self.fc2 = tf.keras.layers.Dense(output_dim)\n",
        "        self.prior = tfd.Normal(loc=0., scale=1.)\n",
        "\n",
        "    def __call__(self, x, samples=1):\n",
        "        outputs = []\n",
        "        for _ in range(samples):\n",
        "            h1 = self.fc1(x)\n",
        "            out = self.fc2(h1)\n",
        "            outputs.append(out)\n",
        "        return outputs\n",
        "\n",
        "def create_bayesian_meta_learning_model(num_classes, input_dim):\n",
        "    model = BayesianImageClassifier(input_dim, num_classes)\n",
        "    optimizer = tf.optimizers.Adam(learning_rate=0.001)\n",
        "    return model, optimizer\n",
        "\n",
        "def train_few_shot_learning(model, optimizer, data, num_epochs, num_samples_per_class):\n",
        "    for epoch in range(num_epochs):\n",
        "        for task_data in data:\n",
        "            x, y = task_data\n",
        "            x = tf.convert_to_tensor(x, dtype=tf.float32)\n",
        "            y = tf.convert_to_tensor(y, dtype=tf.int32)\n",
        "            task_input = x\n",
        "            with tf.GradientTape() as tape:\n",
        "                task_params = model.prior.sample([x.shape[0]])\n",
        "                task_params = tf.reshape(task_params, [-1, 1])\n",
        "                task_input = tf.concat([task_input, task_params], axis=1)\n",
        "                task_predictions = model(task_input, samples=1)\n",
        "                loss = tf.losses.sparse_categorical_crossentropy(y, task_predictions[-1])\n",
        "            gradients = tape.gradient(loss, model.trainable_variables)\n",
        "            optimizer.apply_gradients(zip(gradients, model.trainable_variables))\n",
        "\n",
        "def test_few_shot_learning(model, data, num_samples_per_class):\n",
        "    accuracy = 0\n",
        "    for task_data in data:\n",
        "        x, y = task_data\n",
        "        x = tf.convert_to_tensor(x, dtype=tf.float32)\n",
        "        y = tf.convert_to_tensor(y, dtype=tf.int64)\n",
        "        task_input = x\n",
        "        task_params = model.prior.sample([x.shape[0]])\n",
        "        task_params = tf.reshape(task_params, [-1, 1])\n",
        "        task_input = tf.concat([task_input, task_params], axis=1)\n",
        "        task_predictions = model(task_input, samples=10)\n",
        "        predicted_labels = tf.argmax(tf.reduce_mean(task_predictions, axis=0), axis=1)\n",
        "        accuracy += tf.reduce_sum(tf.cast(predicted_labels == y, dtype=tf.int32)) / num_samples_per_class\n",
        "    return accuracy / len(data)\n",
        "\n",
        "num_classes = 5\n",
        "num_samples_per_class = 5\n",
        "input_dim = 64\n",
        "num_epochs = 50\n",
        "\n",
        "few_shot_data = generate_few_shot_data(num_classes, num_samples_per_class, input_dim)\n",
        "\n",
        "\n",
        "bayesian_model, optimizer = create_bayesian_meta_learning_model(num_classes, input_dim)\n",
        "train_few_shot_learning(bayesian_model, optimizer, few_shot_data, num_epochs, num_samples_per_class)\n",
        "\n",
        "accuracy = test_few_shot_learning(bayesian_model, few_shot_data, num_samples_per_class)\n",
        "print(\"Few-Shot Learning Accuracy:\", accuracy)\n"
      ]
    }
  ]
}